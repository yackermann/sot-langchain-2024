{
 "cells": [
  {
   "cell_type": "markdown",
   "metadata": {},
   "source": [
    "# Basic Rag to Load Website\n",
    "\n",
    "1. Download the website using `requests`\n",
    "2. Extract the text from the website using `BeautifulSoup`\n",
    "3. Split text and save it to the vector db\n",
    "4. Chat with the bot"
   ]
  },
  {
   "cell_type": "code",
   "execution_count": null,
   "metadata": {},
   "outputs": [],
   "source": [
    "from dotenv import load_dotenv\n",
    "load_dotenv(dotenv_path='.env')"
   ]
  },
  {
   "cell_type": "code",
   "execution_count": null,
   "metadata": {},
   "outputs": [],
   "source": [
    "from langchain_openai import OpenAIEmbeddings, ChatOpenAI\n",
    "from langchain_community.chat_models import ChatOllama\n",
    "from langchain_community.embeddings import OllamaEmbeddings \n",
    "\n",
    "# ----- OpenAI ----- #\n",
    "chat_model = ChatOpenAI()\n",
    "embeddings = OpenAIEmbeddings()\n",
    "\n",
    "# ----- Ollama ----- #\n",
    "# chat_model = ChatOllama()\n",
    "# embeddings = OllamaEmbeddings()\n"
   ]
  },
  {
   "cell_type": "code",
   "execution_count": null,
   "metadata": {},
   "outputs": [],
   "source": [
    "import requests\n",
    "\n",
    "website_url = \"https://www.summeroftech.co.nz/\"\n",
    "\n",
    "# Download the website\n",
    "\n",
    "response = requests.get(\n",
    "    website_url,\n",
    "    headers={\n",
    "        'User-Agent': 'Mozilla/5.0 (Macintosh; Intel Mac OS X 10_15_7) AppleWebKit/537.36 (KHTML, like Gecko) Chrome/128.0.0.0 Safari/537.36',\n",
    "        'Accept': 'text/html,application/xhtml+xml,application/xml;q=0.9,*/*;q=0.8',\n",
    "        'Accept-Language': 'en-GB,en;q=0.6',\n",
    "        'Sec-Ch-Ua': '\"Google Chrome\";v=\"128\", \"Chromium\";v=\"128\", \";Not A Brand\";v=\"99\"',\n",
    "        'Sec-Ch-Ua-Mobile': '?0',\n",
    "        'Sec-Ch-Ua-Platform': '\"macOS\"',\n",
    "        'Sec-Ch-Ua-Arch': '\"x86\"',\n",
    "        'Sec-Fetch-Site': 'none',\n",
    "        'Sec-Fetch-Mode': 'navigate',\n",
    "        'Sec-Fetch-User': '?1',\n",
    "        'Sec-Fetch-Dest': 'document',\n",
    "        'Upgrade-Insecure-Requests': '1',\n",
    "    }\n",
    ")\n",
    "\n",
    "html_content = response.text"
   ]
  },
  {
   "cell_type": "code",
   "execution_count": null,
   "metadata": {},
   "outputs": [],
   "source": [
    "print(html_content)"
   ]
  },
  {
   "cell_type": "code",
   "execution_count": null,
   "metadata": {},
   "outputs": [],
   "source": [
    "# Extract the text from the website\n",
    "\n",
    "from bs4 import BeautifulSoup\n",
    "\n",
    "soup = BeautifulSoup(html_content, 'html.parser')\n",
    "text = soup.get_text() \n",
    "\n",
    "# Remove the newlines and extra spaces\n",
    "\n",
    "text = text.replace('\\n', ' ')\n",
    "text = ' '.join(text.split())\n"
   ]
  },
  {
   "cell_type": "code",
   "execution_count": null,
   "metadata": {},
   "outputs": [],
   "source": [
    "print(text)"
   ]
  },
  {
   "cell_type": "code",
   "execution_count": null,
   "metadata": {},
   "outputs": [],
   "source": [
    "import os\n",
    "from pinecone import Pinecone as PineconeClient\n",
    "from langchain_pinecone import PineconeVectorStore\n",
    "\n",
    "\n",
    "pinecone_client = PineconeClient(\n",
    "   api_key=os.getenv(\"PINECONE_API_KEY\"),\n",
    ")\n",
    "\n",
    "vecdb = PineconeVectorStore(index=pinecone_client.Index(\"sot-demo\"), embedding=embeddings)\n"
   ]
  },
  {
   "cell_type": "code",
   "execution_count": null,
   "metadata": {},
   "outputs": [],
   "source": [
    "from langchain_text_splitters import RecursiveCharacterTextSplitter\n",
    "\n",
    "# Split text\n",
    "text_splitter = RecursiveCharacterTextSplitter(\n",
    "    chunk_size=500,\n",
    "    chunk_overlap=100,\n",
    ")\n",
    "\n",
    "text_chunks = text_splitter.split_text(text)\n",
    "\n",
    "# Convert text to Document objects\n",
    "\n",
    "from langchain.docstore.document import Document\n",
    "\n",
    "docs = [Document(page_content=chunk, metadata={\"source\": website_url}) for chunk in text_chunks]\n",
    "vecdb.add_documents(docs)"
   ]
  },
  {
   "cell_type": "code",
   "execution_count": null,
   "metadata": {},
   "outputs": [],
   "source": [
    "from langchain.chains import RetrievalQA\n",
    "from langchain_core.callbacks import StdOutCallbackHandler\n",
    "\n",
    "chain = RetrievalQA.from_chain_type(\n",
    "    llm=chat_model,\n",
    "    retriever=vecdb.as_retriever(),\n",
    ")\n",
    "\n",
    "chain.invoke(\"Tell me about SoT?\")"
   ]
  }
 ],
 "metadata": {
  "kernelspec": {
   "display_name": "venv",
   "language": "python",
   "name": "python3"
  },
  "language_info": {
   "codemirror_mode": {
    "name": "ipython",
    "version": 3
   },
   "file_extension": ".py",
   "mimetype": "text/x-python",
   "name": "python",
   "nbconvert_exporter": "python",
   "pygments_lexer": "ipython3",
   "version": "3.10.14"
  }
 },
 "nbformat": 4,
 "nbformat_minor": 2
}
