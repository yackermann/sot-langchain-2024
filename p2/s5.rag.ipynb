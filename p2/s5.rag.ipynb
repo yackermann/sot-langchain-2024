{
 "cells": [
  {
   "cell_type": "markdown",
   "metadata": {},
   "source": [
    "# Basic Rag to Load Website\n",
    "\n",
    "1. Download the website using `requests`\n",
    "2. Extract the text from the website using `BeautifulSoup`\n",
    "3. Split text and save it to the vector db\n",
    "4. Chat with the bot"
   ]
  },
  {
   "cell_type": "code",
   "execution_count": 1,
   "metadata": {},
   "outputs": [
    {
     "data": {
      "text/plain": [
       "False"
      ]
     },
     "execution_count": 1,
     "metadata": {},
     "output_type": "execute_result"
    }
   ],
   "source": [
    "from dotenv import load_dotenv\n",
    "load_dotenv(dotenv_path='.env')"
   ]
  },
  {
   "cell_type": "code",
   "execution_count": 2,
   "metadata": {},
   "outputs": [],
   "source": [
    "from langchain_openai import OpenAIEmbeddings, ChatOpenAI\n",
    "from langchain_community.chat_models import ChatOllama\n",
    "from langchain_community.embeddings import OllamaEmbeddings \n",
    "\n",
    "# ----- OpenAI ----- #\n",
    "chat_model = ChatOpenAI()\n",
    "embeddings = OpenAIEmbeddings()\n",
    "\n",
    "# ----- Ollama ----- #\n",
    "# chat_model = ChatOllama()\n",
    "# embeddings = OllamaEmbeddings()\n"
   ]
  },
  {
   "cell_type": "code",
   "execution_count": 3,
   "metadata": {},
   "outputs": [],
   "source": [
    "import requests\n",
    "\n",
    "website_url = \"https://www.summeroftech.co.nz/\"\n",
    "\n",
    "# Download the website\n",
    "\n",
    "response = requests.get(\n",
    "    website_url,\n",
    "    headers={\n",
    "        'User-Agent': 'Mozilla/5.0 (Macintosh; Intel Mac OS X 10_15_7) AppleWebKit/537.36 (KHTML, like Gecko) Chrome/128.0.0.0 Safari/537.36',\n",
    "        'Accept': 'text/html,application/xhtml+xml,application/xml;q=0.9,*/*;q=0.8',\n",
    "        'Accept-Language': 'en-GB,en;q=0.6',\n",
    "        'Sec-Ch-Ua': '\"Google Chrome\";v=\"128\", \"Chromium\";v=\"128\", \";Not A Brand\";v=\"99\"',\n",
    "        'Sec-Ch-Ua-Mobile': '?0',\n",
    "        'Sec-Ch-Ua-Platform': '\"macOS\"',\n",
    "        'Sec-Ch-Ua-Arch': '\"x86\"',\n",
    "        'Sec-Fetch-Site': 'none',\n",
    "        'Sec-Fetch-Mode': 'navigate',\n",
    "        'Sec-Fetch-User': '?1',\n",
    "        'Sec-Fetch-Dest': 'document',\n",
    "        'Upgrade-Insecure-Requests': '1',\n",
    "    }\n",
    ")\n",
    "\n",
    "html_content = response.text"
   ]
  },
  {
   "cell_type": "code",
   "execution_count": 4,
   "metadata": {},
   "outputs": [],
   "source": [
    "# Extract the text from the website\n",
    "\n",
    "from bs4 import BeautifulSoup\n",
    "\n",
    "soup = BeautifulSoup(html_content, 'html.parser')\n",
    "text = soup.get_text() \n",
    "\n",
    "# Remove the newlines and extra spaces\n",
    "\n",
    "text = text.replace('\\n', ' ')\n",
    "text = ' '.join(text.split())\n"
   ]
  },
  {
   "cell_type": "code",
   "execution_count": 5,
   "metadata": {},
   "outputs": [],
   "source": [
    "import os\n",
    "from pinecone import Pinecone as PineconeClient\n",
    "from langchain_pinecone import PineconeVectorStore\n",
    "\n",
    "\n",
    "pinecone_client = PineconeClient(\n",
    "   api_key=os.getenv(\"PINECONE_API_KEY\"),\n",
    ")\n",
    "\n",
    "vecdb = PineconeVectorStore(index=pinecone_client.Index(\"sot-demo\"), embedding=embeddings)\n"
   ]
  },
  {
   "cell_type": "code",
   "execution_count": 6,
   "metadata": {},
   "outputs": [
    {
     "data": {
      "text/plain": [
       "['29462ee7-0a02-4e91-b3d2-4636808d44fd',\n",
       " 'cc7c53ad-f745-440d-8d4f-6bd91feae9f6',\n",
       " 'ace73023-cb40-4c4c-b28f-96d080b45ac3',\n",
       " '52982d94-1db9-4d69-8c32-0257259877b9',\n",
       " 'b901eed4-2f60-408f-9694-0be0b37bc613',\n",
       " 'b2f79d9f-6921-4196-942c-5cf544c7ac41',\n",
       " '3e3327db-fa79-47a6-b429-1cfc5494d305',\n",
       " '85d0001d-d5f7-48a3-ada9-f6f643d722d0',\n",
       " '5c136009-b96c-4088-aa14-c2890ad3611e',\n",
       " 'f338707e-e182-4488-bce1-c31626e80bac',\n",
       " '2ae423a4-2338-49a5-a03a-3fd30d136e30',\n",
       " '33682639-72e2-4b6f-b515-ff9d5d443a6d',\n",
       " 'e9530f26-3835-4700-969d-833bb3ce1840',\n",
       " '385c4bf7-07b2-4fec-a3c7-8426f1339776',\n",
       " '762947d1-f944-419c-a513-38c742eef50e']"
      ]
     },
     "execution_count": 6,
     "metadata": {},
     "output_type": "execute_result"
    }
   ],
   "source": [
    "from langchain_text_splitters import RecursiveCharacterTextSplitter\n",
    "\n",
    "# Split text\n",
    "text_splitter = RecursiveCharacterTextSplitter(\n",
    "    chunk_size=500,\n",
    "    chunk_overlap=100,\n",
    ")\n",
    "\n",
    "text_chunks = text_splitter.split_text(text)\n",
    "\n",
    "# Convert text to Document objects\n",
    "\n",
    "from langchain.docstore.document import Document\n",
    "\n",
    "docs = [Document(page_content=chunk, metadata={\"source\": website_url}) for chunk in text_chunks]\n",
    "vecdb.add_documents(docs)"
   ]
  },
  {
   "cell_type": "code",
   "execution_count": 9,
   "metadata": {},
   "outputs": [
    {
     "name": "stdout",
     "output_type": "stream",
     "text": [
      "\u001b[32;1m\u001b[1;3m[chain/start]\u001b[0m \u001b[1m[chain:RetrievalQA] Entering Chain run with input:\n",
      "\u001b[0m{\n",
      "  \"query\": \"What is a transformer?\"\n",
      "}\n",
      "\u001b[32;1m\u001b[1;3m[chain/start]\u001b[0m \u001b[1m[chain:RetrievalQA > chain:StuffDocumentsChain] Entering Chain run with input:\n",
      "\u001b[0m[inputs]\n",
      "\u001b[32;1m\u001b[1;3m[chain/start]\u001b[0m \u001b[1m[chain:RetrievalQA > chain:StuffDocumentsChain > chain:LLMChain] Entering Chain run with input:\n",
      "\u001b[0m{\n",
      "  \"question\": \"What is a transformer?\",\n",
      "  \"context\": \"sponsorsWe're incredibly lucky to have the support of some generous partners. Like us, they're passionate about the future of tech in Aotearoa.Learn about how to join us > AboutOur storyOur peopleOur valuesPartnersCode of conductPrivacy policy EmployersGet startedHow it worksSupercharged Job ListingsSummer of EngineeringEmployers toolkitEmployer FAQsPricingEmployer T&Cs StudentsInternshipsGraduatesStudent FAQsStudent T&Cs Blog Contact LoginAs an employerAs a student RegisterAs an employerAs a\\n\\nSummer of Tech - empowering New Zealand to hire the next generation of tech talent 0 Skip to Content About People Our values Sponsors Donate Code of conduct Our story Privacy policy Employers Get Started How It Works Supercharged Job Listings Summer of Engineering Employer's Toolkit Employer FAQs Pricing Employer Terms & Conditions Students Student Internships Graduates Student FAQs Student Terms & Conditions Blog Contact Register As an employer As a volunteer Login As an employer As a student\\n\\nand challenge myself.”— Lena Plaksina, Lead Engineer at Xero, 2023 “The Summer of Tech platform made the application process easy. The events throughout the year were really helpful - CV reviews, and mock interviews. Summer of Tech make it easy to get that help and find the role that was best for me.”— Annie Foote, Security Internship at Helix Security Services, 2022 Connecting talent and employers since 2006Summer of Tech bridges the gap between learning and earning for students and graduates\\n\\nsince 2006Summer of Tech bridges the gap between learning and earning for students and graduates passionate about kick starting an epic tech careers in Aotearoa. We're industry people ourselves, with deep connections to the tech ecosystem in Aotearoa. We work closely with educators and employers to ensure that graduates have the in-demand skills that the industry needs. Learn more > Our numbers so far 17 years And counting 3,138 Placements since 2006 350+ Employers 439 Placements in 2022\"\n",
      "}\n",
      "\u001b[32;1m\u001b[1;3m[llm/start]\u001b[0m \u001b[1m[chain:RetrievalQA > chain:StuffDocumentsChain > chain:LLMChain > llm:ChatOpenAI] Entering LLM run with input:\n",
      "\u001b[0m{\n",
      "  \"prompts\": [\n",
      "    \"System: Use the following pieces of context to answer the user's question. \\nIf you don't know the answer, just say that you don't know, don't try to make up an answer.\\n----------------\\nsponsorsWe're incredibly lucky to have the support of some generous partners. Like us, they're passionate about the future of tech in Aotearoa.Learn about how to join us > AboutOur storyOur peopleOur valuesPartnersCode of conductPrivacy policy EmployersGet startedHow it worksSupercharged Job ListingsSummer of EngineeringEmployers toolkitEmployer FAQsPricingEmployer T&Cs StudentsInternshipsGraduatesStudent FAQsStudent T&Cs Blog Contact LoginAs an employerAs a student RegisterAs an employerAs a\\n\\nSummer of Tech - empowering New Zealand to hire the next generation of tech talent 0 Skip to Content About People Our values Sponsors Donate Code of conduct Our story Privacy policy Employers Get Started How It Works Supercharged Job Listings Summer of Engineering Employer's Toolkit Employer FAQs Pricing Employer Terms & Conditions Students Student Internships Graduates Student FAQs Student Terms & Conditions Blog Contact Register As an employer As a volunteer Login As an employer As a student\\n\\nand challenge myself.”— Lena Plaksina, Lead Engineer at Xero, 2023 “The Summer of Tech platform made the application process easy. The events throughout the year were really helpful - CV reviews, and mock interviews. Summer of Tech make it easy to get that help and find the role that was best for me.”— Annie Foote, Security Internship at Helix Security Services, 2022 Connecting talent and employers since 2006Summer of Tech bridges the gap between learning and earning for students and graduates\\n\\nsince 2006Summer of Tech bridges the gap between learning and earning for students and graduates passionate about kick starting an epic tech careers in Aotearoa. We're industry people ourselves, with deep connections to the tech ecosystem in Aotearoa. We work closely with educators and employers to ensure that graduates have the in-demand skills that the industry needs. Learn more > Our numbers so far 17 years And counting 3,138 Placements since 2006 350+ Employers 439 Placements in 2022\\nHuman: What is a transformer?\"\n",
      "  ]\n",
      "}\n",
      "\u001b[36;1m\u001b[1;3m[llm/end]\u001b[0m \u001b[1m[chain:RetrievalQA > chain:StuffDocumentsChain > chain:LLMChain > llm:ChatOpenAI] [801ms] Exiting LLM run with output:\n",
      "\u001b[0m{\n",
      "  \"generations\": [\n",
      "    [\n",
      "      {\n",
      "        \"text\": \"I don't know.\",\n",
      "        \"generation_info\": {\n",
      "          \"finish_reason\": \"stop\",\n",
      "          \"logprobs\": null\n",
      "        },\n",
      "        \"type\": \"ChatGeneration\",\n",
      "        \"message\": {\n",
      "          \"lc\": 1,\n",
      "          \"type\": \"constructor\",\n",
      "          \"id\": [\n",
      "            \"langchain\",\n",
      "            \"schema\",\n",
      "            \"messages\",\n",
      "            \"AIMessage\"\n",
      "          ],\n",
      "          \"kwargs\": {\n",
      "            \"content\": \"I don't know.\",\n",
      "            \"additional_kwargs\": {\n",
      "              \"refusal\": null\n",
      "            },\n",
      "            \"response_metadata\": {\n",
      "              \"token_usage\": {\n",
      "                \"completion_tokens\": 5,\n",
      "                \"prompt_tokens\": 465,\n",
      "                \"total_tokens\": 470\n",
      "              },\n",
      "              \"model_name\": \"gpt-3.5-turbo-0125\",\n",
      "              \"system_fingerprint\": null,\n",
      "              \"finish_reason\": \"stop\",\n",
      "              \"logprobs\": null\n",
      "            },\n",
      "            \"type\": \"ai\",\n",
      "            \"id\": \"run-0f10e84b-bb53-4b74-a3b5-ae19030dde27-0\",\n",
      "            \"usage_metadata\": {\n",
      "              \"input_tokens\": 465,\n",
      "              \"output_tokens\": 5,\n",
      "              \"total_tokens\": 470\n",
      "            },\n",
      "            \"tool_calls\": [],\n",
      "            \"invalid_tool_calls\": []\n",
      "          }\n",
      "        }\n",
      "      }\n",
      "    ]\n",
      "  ],\n",
      "  \"llm_output\": {\n",
      "    \"token_usage\": {\n",
      "      \"completion_tokens\": 5,\n",
      "      \"prompt_tokens\": 465,\n",
      "      \"total_tokens\": 470\n",
      "    },\n",
      "    \"model_name\": \"gpt-3.5-turbo-0125\",\n",
      "    \"system_fingerprint\": null\n",
      "  },\n",
      "  \"run\": null\n",
      "}\n",
      "\u001b[36;1m\u001b[1;3m[chain/end]\u001b[0m \u001b[1m[chain:RetrievalQA > chain:StuffDocumentsChain > chain:LLMChain] [802ms] Exiting Chain run with output:\n",
      "\u001b[0m{\n",
      "  \"text\": \"I don't know.\"\n",
      "}\n",
      "\u001b[36;1m\u001b[1;3m[chain/end]\u001b[0m \u001b[1m[chain:RetrievalQA > chain:StuffDocumentsChain] [805ms] Exiting Chain run with output:\n",
      "\u001b[0m{\n",
      "  \"output_text\": \"I don't know.\"\n",
      "}\n",
      "\u001b[36;1m\u001b[1;3m[chain/end]\u001b[0m \u001b[1m[chain:RetrievalQA] [1.31s] Exiting Chain run with output:\n",
      "\u001b[0m{\n",
      "  \"result\": \"I don't know.\"\n",
      "}\n"
     ]
    },
    {
     "data": {
      "text/plain": [
       "{'query': 'What is a transformer?', 'result': \"I don't know.\"}"
      ]
     },
     "execution_count": 9,
     "metadata": {},
     "output_type": "execute_result"
    }
   ],
   "source": [
    "from langchain.chains import RetrievalQA\n",
    "from langchain_core.callbacks import StdOutCallbackHandler\n",
    "\n",
    "chain = RetrievalQA.from_chain_type(\n",
    "    llm=chat_model,\n",
    "    retriever=vecdb.as_retriever(),\n",
    ")\n",
    "\n",
    "chain.invoke(\"Tell me about SoT?\")"
   ]
  }
 ],
 "metadata": {
  "kernelspec": {
   "display_name": "venv",
   "language": "python",
   "name": "python3"
  },
  "language_info": {
   "codemirror_mode": {
    "name": "ipython",
    "version": 3
   },
   "file_extension": ".py",
   "mimetype": "text/x-python",
   "name": "python",
   "nbconvert_exporter": "python",
   "pygments_lexer": "ipython3",
   "version": "3.10.14"
  }
 },
 "nbformat": 4,
 "nbformat_minor": 2
}
