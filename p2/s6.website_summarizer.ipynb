{
 "cells": [
  {
   "cell_type": "markdown",
   "metadata": {},
   "source": [
    "# Building website summarizer\n",
    "\n",
    "1. Download the website using `requests`\n",
    "2. Extract the text from the website using `BeautifulSoup`\n",
    "3. Split text and save it to the vector db\n",
    "4. Chat with the bot"
   ]
  },
  {
   "cell_type": "code",
   "execution_count": 1,
   "metadata": {},
   "outputs": [
    {
     "data": {
      "text/plain": [
       "False"
      ]
     },
     "execution_count": 1,
     "metadata": {},
     "output_type": "execute_result"
    }
   ],
   "source": [
    "from dotenv import load_dotenv\n",
    "load_dotenv(dotenv_path='.env')"
   ]
  },
  {
   "cell_type": "code",
   "execution_count": 2,
   "metadata": {},
   "outputs": [],
   "source": [
    "from langchain_openai import OpenAIEmbeddings, ChatOpenAI\n",
    "from langchain_community.chat_models import ChatOllama\n",
    "from langchain_community.embeddings import OllamaEmbeddings \n",
    "\n",
    "# ----- OpenAI ----- #\n",
    "chat_model = ChatOpenAI(name=\"gpt-4o\")\n",
    "embeddings = OpenAIEmbeddings()\n",
    "\n",
    "# ----- Ollama ----- #\n",
    "# chat_model = ChatOllama()\n",
    "# embeddings = OllamaEmbeddings()\n"
   ]
  },
  {
   "cell_type": "code",
   "execution_count": 3,
   "metadata": {},
   "outputs": [],
   "source": [
    "import requests, time\n",
    "from urllib.parse import urlparse\n",
    "from bs4 import BeautifulSoup\n",
    "\n",
    "\n",
    "def getWebsiteAndRelatedLinks(website_url):\n",
    "    response = requests.get(\n",
    "        website_url,\n",
    "        headers={\n",
    "            'User-Agent': 'Mozilla/5.0 (Macintosh; Intel Mac OS X 10_15_7) AppleWebKit/537.36 (KHTML, like Gecko) Chrome/128.0.0.0 Safari/537.36',\n",
    "            'Accept': 'text/html,application/xhtml+xml,application/xml;q=0.9,*/*;q=0.8',\n",
    "            'Accept-Language': 'en-GB,en;q=0.6',\n",
    "            'Sec-Ch-Ua': '\"Google Chrome\";v=\"128\", \"Chromium\";v=\"128\", \";Not A Brand\";v=\"99\"',\n",
    "            'Sec-Ch-Ua-Mobile': '?0',\n",
    "            'Sec-Ch-Ua-Platform': '\"macOS\"',\n",
    "            'Sec-Ch-Ua-Arch': '\"x86\"',\n",
    "            'Sec-Fetch-Site': 'none',\n",
    "            'Sec-Fetch-Mode': 'navigate',\n",
    "            'Sec-Fetch-User': '?1',\n",
    "            'Sec-Fetch-Dest': 'document',\n",
    "            'Upgrade-Insecure-Requests': '1',\n",
    "        }\n",
    "    )\n",
    "\n",
    "    html_content = response.text\n",
    "    soup = BeautifulSoup(html_content, 'html.parser')\n",
    "\n",
    "    # Extract the host from the URL\n",
    "    parsed_url = urlparse(website_url)\n",
    "    host = parsed_url.netloc\n",
    "    host = host.replace('www.', '')\n",
    "    \n",
    "    # Get all the links\n",
    "    links = []\n",
    "    for link in soup.find_all('a'):\n",
    "        if link.get('href') is not None and host in link.get('href'):\n",
    "            links.append(link.get('href'))\n",
    "\n",
    "    # Filter out the links that are not valid\n",
    "    links = [link for link in links if link is not None]\n",
    "\n",
    "    # Filter sign in and sign up links\n",
    "    links = [link for link in links if 'sign' not in link and 'login' not in link]\n",
    "\n",
    "    unduplicated_links = []\n",
    "    for link in links:\n",
    "        if link not in unduplicated_links:\n",
    "            unduplicated_links.append(link)\n",
    "\n",
    "    links = unduplicated_links\n",
    "\n",
    "    text = soup.get_text() \n",
    "    text = text.replace('\\n', ' ')\n",
    "    text = ' '.join(text.split())\n",
    "\n",
    "    # Be nice to the server xoxo\n",
    "    time.sleep(0.5)\n",
    "\n",
    "    return text, links, host\n"
   ]
  },
  {
   "cell_type": "code",
   "execution_count": 4,
   "metadata": {},
   "outputs": [],
   "source": [
    "website_url = \"https://kpmg.com/nz/en/home.html\"\n",
    "website_text, website_links, website_host = getWebsiteAndRelatedLinks(website_url)"
   ]
  },
  {
   "cell_type": "code",
   "execution_count": 5,
   "metadata": {},
   "outputs": [],
   "source": [
    "# Get broader site information\n",
    "from langchain.docstore.document import Document\n",
    "website_pages = [\n",
    "    Document(page_content=website_text, id=website_url, metadata={'url': website_url})\n",
    "]\n",
    "\n",
    "for link in website_links:\n",
    "    try:\n",
    "        text, links, host = getWebsiteAndRelatedLinks(link)\n",
    "        website_pages.append(Document(page_content=text, id=link, metadata={'url': link}))\n",
    "    except Exception as e:\n",
    "        print(f\"Error getting link: {link}\")\n",
    "        print(e)\n",
    " "
   ]
  },
  {
   "cell_type": "code",
   "execution_count": 8,
   "metadata": {},
   "outputs": [
    {
     "name": "stdout",
     "output_type": "stream",
     "text": [
      "[Document(id='https://kpmg.com/nz/en/home.html', metadata={'url': 'https://kpmg.com/nz/en/home.html'}, page_content='KPMG New Zealand - Audit, Tax and Advisory - KPMG New Zealand close Share with your friends Insights Industries Services Careers About us Contact KPMG Personalisation Get the latest KPMG thought leadership directly to your individual personalised dashboard Register now Login Fuelling prosperity Providing expert accounting, audit, tax, and business advisory services across a range of organisations and industries. Providing expert accounting, audit, tax, and business advisory services. Some of the industries we work with KPMG IMPACT KPMG IMPACT Helping organisations address climate change, be sustainable, resilient, inclusive â\\x80\\x93 and focused on their impact. Helping organisations address climate change, be sustainable, resilient, inclusive â\\x80\\x93 and focused on their impact. Infrastructure, Assets & Places Infrastructure, Assets & Places Building for better with a holistic and sustainable approach to planning, delivering and improving our infrastructure. Building for better with a holistic and sustainable approach to planning, delivering and improving our infrastructure. Modernising government for successful transformation Modernising government for successful transformation By committing to continuous modernisation, governments can deliver data driven and digital enabled services to communities and businesses Helping government harness digital innovation to deliver citizen-centric services. Insights 2024 Agribusiness Agenda 2024 Agribusiness Agenda 2024 Agribusiness Agenda Todayâ\\x80\\x99s potential, tomorrowâ\\x80\\x99s possibilities Todayâ\\x80\\x99s potential, tomorrowâ\\x80\\x99s possibilities Todayâ\\x80\\x99s potential, tomorrowâ\\x80\\x99s possibilities Family Owned Businesses category Global Family Business Survey 2024 Global Family Business Survey 2024 Global Family Business Survey 2024 Our survey of family-owned businesses reveals why building a â\\x80\\x98dynamicâ\\x80\\x99 legacy can sustain family business performance for future generations. Our survey of family-owned businesses reveals why building a â\\x80\\x98dynamicâ\\x80\\x99 legacy can sustain family business performance for future generations. Survey reveals how family businesses can sustain performance for future generations. Retail category Navigating the future of seamless commerce in Asia Pacific Navigating the future of seamless commerce in Asia Pacific Navigating the future of seamless commerce in Asia Pacific How retailers are driving customer experiences, from technology to sustainability. How retailers are driving customer experiences, from technology to sustainability. How retailers are driving customer experiences, from technology to sustainability. Transport Sector Climate Change Scenarios Transport Sector Climate Change Scenarios Transport Sector Climate Change Scenarios Our Impact Report Demonstrating our commitment to fuelling New Zealandâ\\x80\\x99s prosperity and measuring the impact of our work across four key areas: Planet, People, Prosperity and Governance. Read more Leadership KPMG New Zealand has 104 partners working across seven offices. Read More Careers At KPMG we have a pretty compelling reason to come to work everyday... Join the team Opens in a new window Submit a Request for Proposal Find out how KPMGâ\\x80\\x99s expertise can help you and your organisation. Find out how KPMGâ\\x80\\x99s expertise can help you and your organisation. Click to begin Industries Government & Public Sector We work to deliver meaningful results through a deep understanding of the issues, an intimate appreciation of how the public sector works. Financial Services KPMG can help financial institutions address and tackle the challenges the sector continues to face in to Agribusiness KPMG Agribusiness experts understand the challenges faced by New Zealand primary industry. MÄ\\x81ori MÄ\\x81ori play an important role in fuelling the prosperity of Aotearoa. At KPMG we are committed to supporting the journey to achieve their aspirations. Construction Optimising risk in a highly competitive marketplace. Transport Advising both public and privately owned transport groups on strategy, planning, regulations, costs and compliance requirements. All Industries Services Advisory Advisory works with the worldâ\\x80\\x99s leading organisations to create & protect value. Audit and Assurance Independent, quality audit services for use by investors, creditors and stakeholders. Tax Attitudes to tax are changing, not just locally but globally. Private Enterprise Helping private businesses turn insights into action and make possible happen. All Services Legal Privacy Accessibility Sitemap Help Glossary About Legal Privacy Accessibility Sitemap Help Glossary About Contact International Hotline Press Releases Media contact Alumni linkedin. Opens in a new window twitter. Opens in a new window youtube. Opens in a new window Contact International Hotline Press Releases Media contact Alumni Request for proposal Submit RFP Submit RFP Subscription Subscribe Now Subscribe to KPMG Insights Subscription Subscription E-mail address is invalid. Email Address Submit Â© 2024 KPMG, a New Zealand Partnership and a member firm of the KPMG global organisation of independent member firms affiliated with KPMG International Limited, a private English company limited by guarantee. All rights reserved. For more detail about the structure of the KPMG global organization please visit https://kpmg.com/governance. close'), Document(id='https://kpmg.com/xx/en/home/misc/governance.html', metadata={'url': 'https://kpmg.com/xx/en/home/misc/governance.html'}, page_content=\"KPMG International governance - KPMG Global close Share with your friends Insights Industries Services Client Stories Careers About us KPMG Personalization Get the latest KPMG thought leadership directly to your individual personalized dashboard Register now Login Governance Governance KPMG is the brand under which the member firms of KPMG International Limited (KPMG International) operate and provide professional services. Each firm is a separate legal entity and together they form the KPMG global organization. â\\x80\\x9cKPMGâ\\x80\\x9d is used to refer to individual member firms within the KPMG organization or to one or more member firms collectively. In many parts of the world, regulated businesses (such as audit and legal firms) are required by law to be locally owned and independent. KPMG member firms do not, and cannot, operate as a corporate multinational. KPMG member firms are generally locally owned and managed. Each KPMG member firm is responsible for its own obligations and liabilities. Member firms in the KPMG organization are members in, or have other legal connections to, KPMG International, an English private company limited by guarantee. KPMG International acts as the coordinating entity for the overall benefit of the KPMG member firms but does not provide professional services to clients. Professional services to clients are exclusively provided by member firms. Our structure is designed to support consistency of service quality and adherence to agreed values wherever in the world KPMG member firms operate. KPMG member firms commit to conduct their operations in compliance with a common set of values, standards and service quality expectations. Partners and employees within those firms commit to act with integrity at all times. KPMG International and the member firms are not a global partnership, single firm, multinational corporation, joint venture, or in a principal or agent relationship or partnership with each other. No member firm has any authority to obligate or bind KPMG International any of its related entities or any other member firm vis-Ã -vis third parties, nor does KPMG International or any of its related entities have any such authority to obligate or bind any member firm. Unless otherwise indicated, references in this website to a 'member firm' or 'member firms' are references to member firms of KPMG International. KPMG International is a company limited by guarantee incorporated in England and Wales with company number 12474966. The registered office of KPMG International is at 15 Canada Square, London, E14 5GL. Legal Privacy Accessibility Sitemap Help Glossary Events Legal Privacy Accessibility Sitemap Help Glossary Events Contact Locations Contact us Media Press releases Podcasts KPMG blog Alumni Contact Alumni facebook. Opens in a new window linkedin. Opens in a new window twitter. Opens in a new window youtube. Opens in a new window Contact Locations Contact us Media Press releases Podcasts KPMG blog Alumni Contact Alumni Request for proposal Submit RFP Submit RFP Subscription Subscribe Now Subscribe to KPMG Insights Subscription Subscription E-mail address is invalid. Email Address Submit Â© 2024Â Copyright owned by one or more of the KPMG International entities. KPMG International entities provide no services to clients. All rights reserved. KPMG refers to the global organization or to one or more of the member firms of KPMG International Limited (â\\x80\\x9cKPMG Internationalâ\\x80\\x9d), each of which is a separate legal entity. KPMG International Limited is a private English company limited by guarantee and does not provide services to clients. For more detail about our structure please visitÂ https://kpmg.com/governance. Member firms of the KPMG network of independent firms are affiliated with KPMG International. KPMG International provides no client services. No member firm has any authority to obligate or bind KPMG International or any other member firm vis-Ã -vis third parties, nor does KPMG International have any such authority to obligate or bind any member firm. close\")]\n",
      "2\n"
     ]
    }
   ],
   "source": [
    "print(website_pages)\n",
    "print( len(website_pages))"
   ]
  },
  {
   "cell_type": "code",
   "execution_count": 10,
   "metadata": {},
   "outputs": [
    {
     "name": "stdout",
     "output_type": "stream",
     "text": [
      "page_content='KPMG New Zealand offers expert accounting, audit, tax, and business advisory services across various industries. They focus on helping organizations address climate change, modernize government services, and support family-owned businesses. KPMG also works with sectors such as retail, transportation, and the public sector. They have 104 partners across seven offices and offer services in advisory, audit, and tax. KPMG is committed to fueling New Zealand's prosperity and measuring their impact in areas such as planet, people, prosperity, and governance.' metadata={'url': 'https://kpmg.com/nz/en/home.html'}\n"
     ]
    }
   ],
   "source": [
    "from langchain.chains.combine_documents.stuff import StuffDocumentsChain\n",
    "from langchain.chains.summarize import load_summarize_chain\n",
    "from langchain_text_splitters import CharacterTextSplitter\n",
    "from langchain.prompts import PromptTemplate\n",
    "from langchain.chains.llm import LLMChain\n",
    "\n",
    "def summarizePages(website_pages):\n",
    "    prompt_template = \"\"\"Write a concise summary of the following:\n",
    "    \"{text}\"\n",
    "    CONCISE SUMMARY:\"\"\"\n",
    "    prompt = PromptTemplate.from_template(prompt_template)\n",
    "\n",
    "    # Define LLM chain\n",
    "    llm_chain = LLMChain(llm=chat_model, prompt=prompt)\n",
    "\n",
    "    # Define StuffDocumentsChain\n",
    "    stuff_chain = StuffDocumentsChain(llm_chain=llm_chain, document_variable_name=\"text\")\n",
    "\n",
    "    return stuff_chain.run(website_pages)\n",
    "\n",
    "summaries = []\n",
    "\n",
    "for website_page in website_pages:\n",
    "    website_summary = summarizePages([website_page])\n",
    "    summaries.append(Document(page_content=website_summary, id=website_page.id, metadata=website_page.metadata))\n",
    "\n",
    "print(summaries[0])"
   ]
  },
  {
   "cell_type": "code",
   "execution_count": 11,
   "metadata": {},
   "outputs": [
    {
     "data": {
      "text/plain": [
       "['https://kpmg.com/nz/en/home.html',\n",
       " 'https://kpmg.com/xx/en/home/misc/governance.html']"
      ]
     },
     "execution_count": 11,
     "metadata": {},
     "output_type": "execute_result"
    }
   ],
   "source": [
    "\n",
    "\n",
    "from langchain_chroma import Chroma\n",
    "\n",
    "vecdb = Chroma(\n",
    "    collection_name=\"vdb-\" + website_host,\n",
    "    embedding_function=embeddings,\n",
    "    persist_directory=\"./chroma.vdb\",  # Where to save data locally, remove if not neccesary\n",
    ")\n",
    "\n",
    "vecdb.add_documents(summaries)\n",
    "\n"
   ]
  },
  {
   "cell_type": "code",
   "execution_count": 15,
   "metadata": {},
   "outputs": [
    {
     "name": "stdout",
     "output_type": "stream",
     "text": [
      "\n",
      "\n",
      "\u001b[1m> Entering new RetrievalQA chain...\u001b[0m\n"
     ]
    },
    {
     "name": "stderr",
     "output_type": "stream",
     "text": [
      "Number of requested results 4 is greater than number of elements in index 2, updating n_results = 2\n"
     ]
    },
    {
     "name": "stdout",
     "output_type": "stream",
     "text": [
      "\n",
      "\u001b[1m> Finished chain.\u001b[0m\n"
     ]
    },
    {
     "data": {
      "text/plain": [
       "{'query': 'Tell me about BMW?', 'result': \"I don't have information on BMW.\"}"
      ]
     },
     "execution_count": 15,
     "metadata": {},
     "output_type": "execute_result"
    }
   ],
   "source": [
    "from langchain.chains import RetrievalQA\n",
    "from langchain_core.callbacks import StdOutCallbackHandler\n",
    "\n",
    "chain = RetrievalQA.from_chain_type(\n",
    "    llm=chat_model,\n",
    "    retriever=vecdb.as_retriever(),\n",
    ")\n",
    "\n",
    "chain.invoke(\"Tell me about BMW?\")"
   ]
  },
  {
   "cell_type": "markdown",
   "metadata": {},
   "source": [
    "# GradIO Demo"
   ]
  },
  {
   "cell_type": "code",
   "execution_count": null,
   "metadata": {},
   "outputs": [],
   "source": [
    "from langchain.memory import ConversationBufferMemory\n",
    "from langchain.agents import (\n",
    "    load_tools,\n",
    "    initialize_agent,\n",
    "    AgentType,\n",
    ")\n",
    "\n",
    "from langchain.tools.retriever import create_retriever_tool\n",
    "\n",
    "\n",
    "import gradio as gr\n",
    "\n",
    "vecdb_tool = create_retriever_tool(\n",
    "    vecdb.as_retriever(),\n",
    "    \"search_vecdb\",\n",
    "    \"Searches the vector database for similar questions and returns the most similar texts.\",\n",
    ")\n",
    "\n",
    "tools = load_tools([], llm=chat_model)\n",
    "tools.append(vecdb_tool)\n",
    "\n",
    "memory = ConversationBufferMemory(memory_key=\"chat_history\", return_messages=True)\n",
    "\n",
    "agent = initialize_agent(\n",
    "    tools,\n",
    "    chat_model,\n",
    "    agent=AgentType.CHAT_CONVERSATIONAL_REACT_DESCRIPTION,\n",
    "    verbose=True,\n",
    "    handle_parsing_errors=\"Check your output and make sure it conforms!\",\n",
    "    memory=memory\n",
    ")\n",
    "\n",
    "def call_agent(user_question):\n",
    "    response = agent.run(input=user_question)\n",
    "    return response\n",
    "\n",
    "with gr.Blocks() as demo:\n",
    "    title = gr.HTML(\"<h1>The Data Moves Me Chatbot</h1>\")\n",
    "    input = gr.Textbox(label=\"What would you like to know?\")\n",
    "    output = gr.Textbox(label=\"Answer\")\n",
    "    btn = gr.Button(\"Ask\")\n",
    "    btn.click(fn=call_agent, inputs=input, outputs=output)\n",
    "\n",
    "demo.launch(share=True, debug=True)"
   ]
  }
 ],
 "metadata": {
  "kernelspec": {
   "display_name": "venv",
   "language": "python",
   "name": "python3"
  },
  "language_info": {
   "codemirror_mode": {
    "name": "ipython",
    "version": 3
   },
   "file_extension": ".py",
   "mimetype": "text/x-python",
   "name": "python",
   "nbconvert_exporter": "python",
   "pygments_lexer": "ipython3",
   "version": "3.10.14"
  }
 },
 "nbformat": 4,
 "nbformat_minor": 2
}
